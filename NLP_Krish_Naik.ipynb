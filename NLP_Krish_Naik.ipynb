{
  "nbformat": 4,
  "nbformat_minor": 0,
  "metadata": {
    "colab": {
      "provenance": [],
      "authorship_tag": "ABX9TyPWOGcyHlSTceCJWjN1A4Wz",
      "include_colab_link": true
    },
    "kernelspec": {
      "name": "python3",
      "display_name": "Python 3"
    },
    "language_info": {
      "name": "python"
    }
  },
  "cells": [
    {
      "cell_type": "markdown",
      "metadata": {
        "id": "view-in-github",
        "colab_type": "text"
      },
      "source": [
        "<a href=\"https://colab.research.google.com/github/Rishu5kumar/NLp-Bag-of-words-and-TF-IDF-/blob/main/NLP_Krish_Naik.ipynb\" target=\"_parent\"><img src=\"https://colab.research.google.com/assets/colab-badge.svg\" alt=\"Open In Colab\"/></a>"
      ]
    },
    {
      "cell_type": "code",
      "source": [
        "import nltk\n",
        "# nltk.download()\n",
        "nltk.download('punkt')"
      ],
      "metadata": {
        "id": "Y_mbpqYeiccR"
      },
      "execution_count": null,
      "outputs": []
    },
    {
      "cell_type": "code",
      "execution_count": null,
      "metadata": {
        "id": "ERp_m9aoiVXj"
      },
      "outputs": [],
      "source": [
        "paragraph = \"\"\"I have three visions for India. In 3000 years of our history, people from all over\n",
        "               the world have come and invaded us, captured our lands, conquered our minds.\n",
        "               From Alexander onwards, the Greeks, the Turks, the Moguls, the Portuguese, the British,\n",
        "               the French, the Dutch, all of them came and looted us, took over what was ours.\n",
        "               Yet we have not done this to any other nation. We have not conquered anyone.\n",
        "               We have not grabbed their land, their culture,\n",
        "               their history and tried to enforce our way of life on them.\n",
        "               Why? Because we respect the freedom of others.That is why my\n",
        "               first vision is that of freedom. I believe that India got its first vision of\n",
        "               this in 1857, when we started the War of Independence. It is this freedom that\n",
        "               we must protect and nurture and build on. If we are not free, no one will respect us.\n",
        "               My second vision for India’s development. For fifty years we have been a developing nation.\n",
        "               It is time we see ourselves as a developed nation. We are among the top 5 nations of the world\n",
        "               in terms of GDP. We have a 10 percent growth rate in most areas. Our poverty levels are falling.\n",
        "               Our achievements are being globally recognised today. Yet we lack the self-confidence to\n",
        "               see ourselves as a developed nation, self-reliant and self-assured. Isn’t this incorrect?\n",
        "               I have a third vision. India must stand up to the world. Because I believe that unless India\n",
        "               stands up to the world, no one will respect us. Only strength respects strength. We must be\n",
        "               strong not only as a military power but also as an economic power. Both must go hand-in-hand.\n",
        "               My good fortune was to have worked with three great minds. Dr. Vikram Sarabhai of the Dept. of\n",
        "               space, Professor Satish Dhawan, who succeeded him and Dr. Brahm Prakash, father of nuclear material.\n",
        "               I was lucky to have worked with all three of them closely and consider this the great opportunity of my life.\n",
        "               I see four milestones in my career\"\"\"\n"
      ]
    },
    {
      "cell_type": "code",
      "source": [
        "# we will not use this, instead of this we will use lemmetization\n",
        "\n",
        "'''\n",
        "from nltk.stem import PorterStemmer\n",
        "from nltk.corpus import stopwords\n",
        "\n",
        "# Tokenizing sentences, convert paragraph into sentences by applying various regular expressions.\n",
        "sentences = nltk.sent_tokenize(paragraph)\n",
        "\n",
        "# Create a PorterStemmer object\n",
        "stemmer = PorterStemmer()\n",
        "\n",
        "# Stemming\n",
        "for i in range(len(sentences)):\n",
        "    words = nltk.word_tokenize(sentences[i]) # Tokenizing words, convert paragraph into word by word, list of words from every sentences.\n",
        "    words = [stemmer.stem(word) for word in words if word not in set(stopwords.words('english'))] # we have stopwords in different different languages, stopwords.words('french')\n",
        "    sentences[i] = ' '.join(words)\n",
        "'''"
      ],
      "metadata": {
        "id": "igXzTCeNJM5t"
      },
      "execution_count": null,
      "outputs": []
    },
    {
      "cell_type": "code",
      "source": [
        "'''\n",
        "from nltk.stem import WordNetLemmatizer\n",
        "from nltk.corpus import stopwords\n",
        "\n",
        "# Tokenizing sentences, convert paragraph into sentences by applying various regular expressions.\n",
        "sentences = nltk.sent_tokenize(paragraph)\n",
        "\n",
        "# Create a WordNetLemmatizer object\n",
        "lemmatizer = WordNetLemmatizer()\n",
        "\n",
        "# Lemmatization\n",
        "for i in range(len(sentences)):\n",
        "    words = nltk.word_tokenize(sentences[i]) # Tokenizing words, convert sentences into word by word, list of words from every sentences.\n",
        "    words = [lemmatizer.lemmatize(word) for word in words if word not in set(stopwords.words('english'))]\n",
        "    sentences[i] = ' '.join(words)\n",
        "'''"
      ],
      "metadata": {
        "id": "EFNKP__ENvP-"
      },
      "execution_count": null,
      "outputs": []
    },
    {
      "cell_type": "code",
      "source": [
        "# Cleaning the texts\n",
        "import re # regular expression\n",
        "from nltk.corpus import stopwords\n",
        "from nltk.stem.porter import PorterStemmer\n",
        "from nltk.stem import WordNetLemmatizer\n",
        "\n",
        "ps = PorterStemmer()\n",
        "wordnet=WordNetLemmatizer()\n",
        "sentences = nltk.sent_tokenize(paragraph)\n",
        "corpus = [] # after cleaning the text, i will store the sentences here\n",
        "for i in range(len(sentences)):\n",
        "    review = re.sub('[^a-zA-Z]', ' ', sentences[i])\n",
        "    # It replaces any character that is not a letter (a-z or A-Z) in the string sentences[i] with a space ' '.\n",
        "    # It cleans the text by removing numbers, punctuation, or special characters, leaving only letters.\n",
        "    # review = re.sub('[^a-zA-Z0-9]', ' ', sentences[i]) # if i want to keep numbers also then this is the code\n",
        "\n",
        "    review = review.lower()\n",
        "    review = review.split()\n",
        "    review = [wordnet.lemmatize(word) for word in review if not word in set(stopwords.words('english'))]\n",
        "    review = ' '.join(review)\n",
        "    corpus.append(review)"
      ],
      "metadata": {
        "id": "Ba6cUUlEsQQ9"
      },
      "execution_count": null,
      "outputs": []
    },
    {
      "cell_type": "markdown",
      "source": [
        "### Bag of Words"
      ],
      "metadata": {
        "id": "roMca8-K5njj"
      }
    },
    {
      "cell_type": "code",
      "source": [
        "# Creating the Bag of Words model\n",
        "# It is nothing but a document matrix\n",
        "from sklearn.feature_extraction.text import CountVectorizer\n",
        "cv = CountVectorizer(max_features = 1500)\n",
        "X = cv.fit_transform(corpus).toarray()\n",
        "\n",
        "'''\n",
        "In the line cv = CountVectorizer(max_features = 1500), the max_features parameter controls the maximum number of words (features) to include in the bag-of-words model.\n",
        "\n",
        "Explanation:\n",
        "max_features=1500 means the model will only keep the top 1,500 most frequent words in the dataset.\n",
        "This helps reduce the dimensionality of the data and focus on the most important words,\n",
        "improving efficiency and reducing overfitting, especially when working with large datasets.\n",
        "\n",
        "Why Use It?\n",
        "If your dataset has a lot of unique words, many of them may be rare or irrelevant. Limiting the number of features to the most frequent ones can improve model performance.\n",
        "'''"
      ],
      "metadata": {
        "id": "Y3AY9JzC5nFe"
      },
      "execution_count": null,
      "outputs": []
    },
    {
      "cell_type": "markdown",
      "source": [
        "### TF-IDF"
      ],
      "metadata": {
        "id": "q3-sYdcD5hO8"
      }
    },
    {
      "cell_type": "code",
      "source": [
        "# Creating the TF-IDF model\n",
        "from sklearn.feature_extraction.text import TfidfVectorizer\n",
        "tf = TfidfVectorizer()\n",
        "X = tf.fit_transform(corpus).toarray()"
      ],
      "metadata": {
        "id": "Ky1YLhKI5Y_S"
      },
      "execution_count": null,
      "outputs": []
    }
  ]
}